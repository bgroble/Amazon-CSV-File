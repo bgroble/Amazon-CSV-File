{
 "cells": [
  {
   "cell_type": "code",
   "execution_count": null,
   "id": "06e734ca",
   "metadata": {},
   "outputs": [],
   "source": [
    "# import all necessary stuff\n",
    "import pd as pandas"
   ]
  },
  {
   "cell_type": "code",
   "execution_count": null,
   "id": "bd1cfc7a",
   "metadata": {},
   "outputs": [],
   "source": [
    "# import and read in CSV"
   ]
  },
  {
   "cell_type": "code",
   "execution_count": null,
   "id": "3b2a3964",
   "metadata": {},
   "outputs": [],
   "source": [
    "# create starter data frame from CSV"
   ]
  }
 ],
 "metadata": {
  "kernelspec": {
   "display_name": "Python 3 (ipykernel)",
   "language": "python",
   "name": "python3"
  },
  "language_info": {
   "codemirror_mode": {
    "name": "ipython",
    "version": 3
   },
   "file_extension": ".py",
   "mimetype": "text/x-python",
   "name": "python",
   "nbconvert_exporter": "python",
   "pygments_lexer": "ipython3",
   "version": "3.11.5"
  }
 },
 "nbformat": 4,
 "nbformat_minor": 5
}
